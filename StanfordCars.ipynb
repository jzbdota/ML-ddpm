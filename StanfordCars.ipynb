{
 "cells": [
  {
   "cell_type": "code",
   "execution_count": 1,
   "id": "b9d4bbe3",
   "metadata": {},
   "outputs": [],
   "source": [
    "%load_ext autoreload\n",
    "%autoreload 2"
   ]
  },
  {
   "cell_type": "code",
   "execution_count": 2,
   "id": "9d538ab0",
   "metadata": {},
   "outputs": [],
   "source": [
    "import torch\n",
    "from PIL import Image\n",
    "from torchvision import datasets,transforms as T\n",
    "from torch.utils.data import DataLoader,Dataset\n",
    "import matplotlib.pyplot as plt\n",
    "from torchsummary import summary\n",
    "from torch import nn\n",
    "%matplotlib inline\n",
    "\n",
    "size = (3,64,64)"
   ]
  },
  {
   "cell_type": "code",
   "execution_count": 5,
   "id": "53de41bb",
   "metadata": {},
   "outputs": [
    {
     "name": "stdout",
     "output_type": "stream",
     "text": [
      "Num params: 67040451 \tModel size: 255.74M\n"
     ]
    }
   ],
   "source": [
    "from ddpm import myUnet\n",
    "model = myUnet()\n",
    "num_params = sum(p.numel() for p in model.parameters())\n",
    "print(f\"Num params: {num_params} \\tModel size: {num_params*4/1024/1024:.2f}M\")"
   ]
  },
  {
   "cell_type": "code",
   "execution_count": 6,
   "id": "f5706a97",
   "metadata": {},
   "outputs": [
    {
     "name": "stdout",
     "output_type": "stream",
     "text": [
      "Num params: 62438883 \tModel size: 238.19M\n"
     ]
    }
   ],
   "source": [
    "from ddpm_online_model import SimpleUnet\n",
    "model = SimpleUnet()\n",
    "# print(summary(model,size,verbose=0))\n",
    "num_params = sum(p.numel() for p in model.parameters())\n",
    "print(f\"Num params: {num_params} \\tModel size: {num_params*4/1024/1024:.2f}M\")\n",
    "# print(model)"
   ]
  },
  {
   "cell_type": "code",
   "execution_count": 4,
   "id": "4ef709e1",
   "metadata": {},
   "outputs": [
    {
     "name": "stdout",
     "output_type": "stream",
     "text": [
      "Num params: 20701281 \tModel size: 78.97M\n"
     ]
    }
   ],
   "source": [
    "from ddpm import myUnet\n",
    "model = myUnet()\n",
    "num_params = sum(p.numel() for p in model.parameters())\n",
    "print(f\"Num params: {num_params} \\tModel size: {num_params*4/1024/1024:.2f}M\")"
   ]
  },
  {
   "cell_type": "code",
   "execution_count": 2,
   "id": "ed27edd5",
   "metadata": {},
   "outputs": [
    {
     "data": {
      "text/plain": [
       "==========================================================================================\n",
       "Layer (type:depth-idx)                   Output Shape              Param #\n",
       "==========================================================================================\n",
       "├─Conv2d: 1-1                            [-1, 384, 128, 128]       24,960\n",
       "├─Softmax: 1-2                           [-1, 16384, 16384]        --\n",
       "├─Conv2d: 1-3                            [-1, 64, 128, 128]        8,256\n",
       "==========================================================================================\n",
       "Total params: 33,216\n",
       "Trainable params: 33,216\n",
       "Non-trainable params: 0\n",
       "Total mult-adds (M): 536.87\n",
       "==========================================================================================\n",
       "Input size (MB): 4.00\n",
       "Forward/backward pass size (MB): 56.00\n",
       "Params size (MB): 0.13\n",
       "Estimated Total Size (MB): 60.13\n",
       "=========================================================================================="
      ]
     },
     "execution_count": 2,
     "metadata": {},
     "output_type": "execute_result"
    }
   ],
   "source": [
    "from torchsummary import summary\n",
    "from AttentionResidual import AttentionResidual as ar\n",
    "model = ar(64)\n",
    "summary(model,(64,128,128),verbose=0)"
   ]
  },
  {
   "cell_type": "code",
   "execution_count": null,
   "id": "be24bb64",
   "metadata": {},
   "outputs": [],
   "source": []
  }
 ],
 "metadata": {
  "kernelspec": {
   "display_name": "Python 3 (ipykernel)",
   "language": "python",
   "name": "python3"
  },
  "language_info": {
   "codemirror_mode": {
    "name": "ipython",
    "version": 3
   },
   "file_extension": ".py",
   "mimetype": "text/x-python",
   "name": "python",
   "nbconvert_exporter": "python",
   "pygments_lexer": "ipython3",
   "version": "3.9.13"
  }
 },
 "nbformat": 4,
 "nbformat_minor": 5
}
