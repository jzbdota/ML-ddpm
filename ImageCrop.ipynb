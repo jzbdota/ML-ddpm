{
 "cells": [
  {
   "cell_type": "code",
   "execution_count": 1,
   "id": "062f48a9",
   "metadata": {},
   "outputs": [],
   "source": [
    "import os\n",
    "from scipy.io import loadmat\n",
    "from datetime import datetime\n",
    "from PIL import Image\n",
    "import numpy as np\n",
    "import matplotlib.pyplot as plt\n",
    "import pickle\n",
    "%matplotlib inline"
   ]
  },
  {
   "cell_type": "code",
   "execution_count": 2,
   "id": "d84445c6",
   "metadata": {},
   "outputs": [],
   "source": [
    "# root = 'stanford_cars'\n",
    "# train_meta_file = os.path.join(root,'devkit','cars_train_annos.mat')\n",
    "# test_meta_file = os.path.join(root,'devkit','cars_test_annos.mat')\n",
    "# train_folder = os.path.join(root,'cars_train')\n",
    "# test_folder = os.path.join(root,'cars_test')\n",
    "# train_cropped_folder = os.path.join(root,'cars_train_cropped')\n",
    "# test_cropped_folder = os.path.join(root,'cars_test_cropped')"
   ]
  },
  {
   "cell_type": "code",
   "execution_count": 2,
   "id": "da38618c",
   "metadata": {},
   "outputs": [],
   "source": [
    "root = 'stanford_cars'\n",
    "cars_meta_file = os.path.join(root,'devkit','cars_annos.mat')\n",
    "cars_cropped_folder = os.path.join(root,'cars_cropped')\n",
    "cars_folder = root"
   ]
  },
  {
   "cell_type": "code",
   "execution_count": 3,
   "id": "05205adb",
   "metadata": {},
   "outputs": [
    {
     "name": "stdout",
     "output_type": "stream",
     "text": [
      "    0\t 2023-03-28 11:08:08.546047\n",
      " 2000\t 2023-03-28 11:08:09.614502\n",
      " 4000\t 2023-03-28 11:08:10.770402\n",
      " 6000\t 2023-03-28 11:08:11.789113\n",
      " 8000\t 2023-03-28 11:08:13.027746\n",
      "10000\t 2023-03-28 11:08:14.053282\n",
      "12000\t 2023-03-28 11:08:15.326330\n",
      "14000\t 2023-03-28 11:08:16.450787\n",
      "16000\t 2023-03-28 11:08:18.355966\n",
      "data saved into the binary file 'carsloader'\n",
      "16151\n"
     ]
    }
   ],
   "source": [
    "cars_meta = loadmat(cars_meta_file)['annotations'].squeeze()\n",
    "savedmeta = []\n",
    "for i,img_meta in enumerate(cars_meta):\n",
    "    if not i%2e3:\n",
    "        print(f\"{i:5d}\\t\",datetime.now())\n",
    "    img_filename = img_meta[0][0]\n",
    "    with Image.open(os.path.join(cars_folder,img_filename)) as img:\n",
    "#         im = img.crop((img_meta[1][0][0],img_meta[2][0][0],\n",
    "#                      img_meta[3][0][0],img_meta[4][0][0]))\n",
    "#         im.save(os.path.join(cars_cropped_folder,img_filename[8:]))\n",
    "        if img.mode != 'RGB':\n",
    "            continue\n",
    "        savedmeta.append((img_filename[8:],img_meta[5][0][0]))\n",
    "with open('carsloader','wb') as fp:\n",
    "    pickle.dump(savedmeta,fp)\n",
    "    print(\"data saved into the binary file 'carsloader'\")\n",
    "print(len(savedmeta))"
   ]
  },
  {
   "cell_type": "code",
   "execution_count": 55,
   "id": "4815dc95",
   "metadata": {},
   "outputs": [
    {
     "data": {
      "text/plain": [
       "('001001.jpg', 13)"
      ]
     },
     "execution_count": 55,
     "metadata": {},
     "output_type": "execute_result"
    }
   ],
   "source": [
    "with open('carsloader','rb') as fp:\n",
    "    trainmeta = pickle.load(fp)\n",
    "trainmeta[1000]"
   ]
  },
  {
   "cell_type": "code",
   "execution_count": null,
   "id": "d530dc7a",
   "metadata": {},
   "outputs": [],
   "source": [
    "with Image.open(os.path.join(train_folder,train_meta[0][5][0])) as im:\n",
    "    plt.imshow(im)\n",
    "#     plt.axis('off')"
   ]
  },
  {
   "cell_type": "code",
   "execution_count": null,
   "id": "a8195c57",
   "metadata": {},
   "outputs": [],
   "source": [
    "with Image.open(os.path.join(train_folder,train_meta[0][5][0])) as img:\n",
    "    im = img.crop((train_meta[0][0][0][0],train_meta[0][1][0][0],\n",
    "                   train_meta[0][2][0][0],train_meta[0][3][0][0]))\n",
    "    plt.imshow(im)\n",
    "    im.save(os.path.join(train_cropped_folder,train_meta[0][5][0]))"
   ]
  },
  {
   "cell_type": "code",
   "execution_count": 8,
   "id": "863ccaae",
   "metadata": {},
   "outputs": [
    {
     "data": {
      "text/plain": [
       "14"
      ]
     },
     "execution_count": 8,
     "metadata": {},
     "output_type": "execute_result"
    }
   ],
   "source": [
    "train_meta = loadmat(train_meta_file)\n",
    "train_meta = train_meta['annotations'].squeeze()\n",
    "train_meta[0][4][0][0]"
   ]
  },
  {
   "cell_type": "code",
   "execution_count": null,
   "id": "fb5ad4e7",
   "metadata": {},
   "outputs": [],
   "source": []
  }
 ],
 "metadata": {
  "kernelspec": {
   "display_name": "Python 3 (ipykernel)",
   "language": "python",
   "name": "python3"
  },
  "language_info": {
   "codemirror_mode": {
    "name": "ipython",
    "version": 3
   },
   "file_extension": ".py",
   "mimetype": "text/x-python",
   "name": "python",
   "nbconvert_exporter": "python",
   "pygments_lexer": "ipython3",
   "version": "3.9.13"
  }
 },
 "nbformat": 4,
 "nbformat_minor": 5
}
